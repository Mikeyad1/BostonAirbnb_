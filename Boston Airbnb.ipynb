{
 "cells": [
  {
   "cell_type": "markdown",
   "id": "1eee94b1-65a4-47ec-9a47-99303e3e3762",
   "metadata": {},
   "source": [
    "## Load the data and display the first few rows of the dataframe"
   ]
  },
  {
   "cell_type": "code",
   "execution_count": 1,
   "id": "39bda680-cdb0-40b8-9e7c-28e67f5a05b2",
   "metadata": {},
   "outputs": [
    {
     "data": {
      "text/html": [
       "<div>\n",
       "<style scoped>\n",
       "    .dataframe tbody tr th:only-of-type {\n",
       "        vertical-align: middle;\n",
       "    }\n",
       "\n",
       "    .dataframe tbody tr th {\n",
       "        vertical-align: top;\n",
       "    }\n",
       "\n",
       "    .dataframe thead th {\n",
       "        text-align: right;\n",
       "    }\n",
       "</style>\n",
       "<table border=\"1\" class=\"dataframe\">\n",
       "  <thead>\n",
       "    <tr style=\"text-align: right;\">\n",
       "      <th></th>\n",
       "      <th>id</th>\n",
       "      <th>listing_url</th>\n",
       "      <th>host_id</th>\n",
       "      <th>host_since</th>\n",
       "      <th>latitude</th>\n",
       "      <th>longitude</th>\n",
       "      <th>neighbourhood</th>\n",
       "      <th>property_type</th>\n",
       "      <th>room_type</th>\n",
       "      <th>accommodates</th>\n",
       "      <th>...</th>\n",
       "      <th>review_scores_cleanliness</th>\n",
       "      <th>review_scores_checkin</th>\n",
       "      <th>review_scores_communication</th>\n",
       "      <th>review_scores_location</th>\n",
       "      <th>review_scores_value</th>\n",
       "      <th>instant_bookable</th>\n",
       "      <th>cancellation_policy</th>\n",
       "      <th>calculated_host_listings_count</th>\n",
       "      <th>reviews_per_month</th>\n",
       "      <th>price</th>\n",
       "    </tr>\n",
       "  </thead>\n",
       "  <tbody>\n",
       "    <tr>\n",
       "      <th>0</th>\n",
       "      <td>12147973</td>\n",
       "      <td>https://www.airbnb.com/rooms/12147973</td>\n",
       "      <td>31303940</td>\n",
       "      <td>2015-04-15</td>\n",
       "      <td>42.282619</td>\n",
       "      <td>-71.133068</td>\n",
       "      <td>Roslindale</td>\n",
       "      <td>House</td>\n",
       "      <td>Entire home/apt</td>\n",
       "      <td>4</td>\n",
       "      <td>...</td>\n",
       "      <td>NaN</td>\n",
       "      <td>NaN</td>\n",
       "      <td>NaN</td>\n",
       "      <td>NaN</td>\n",
       "      <td>NaN</td>\n",
       "      <td>f</td>\n",
       "      <td>moderate</td>\n",
       "      <td>1</td>\n",
       "      <td>NaN</td>\n",
       "      <td>250.0</td>\n",
       "    </tr>\n",
       "    <tr>\n",
       "      <th>1</th>\n",
       "      <td>3075044</td>\n",
       "      <td>https://www.airbnb.com/rooms/3075044</td>\n",
       "      <td>2572247</td>\n",
       "      <td>2012-06-07</td>\n",
       "      <td>42.286241</td>\n",
       "      <td>-71.134374</td>\n",
       "      <td>Roslindale</td>\n",
       "      <td>Apartment</td>\n",
       "      <td>Private room</td>\n",
       "      <td>2</td>\n",
       "      <td>...</td>\n",
       "      <td>9.0</td>\n",
       "      <td>10.0</td>\n",
       "      <td>10.0</td>\n",
       "      <td>9.0</td>\n",
       "      <td>9.0</td>\n",
       "      <td>t</td>\n",
       "      <td>moderate</td>\n",
       "      <td>1</td>\n",
       "      <td>1.30</td>\n",
       "      <td>65.0</td>\n",
       "    </tr>\n",
       "    <tr>\n",
       "      <th>2</th>\n",
       "      <td>6976</td>\n",
       "      <td>https://www.airbnb.com/rooms/6976</td>\n",
       "      <td>16701</td>\n",
       "      <td>2009-05-11</td>\n",
       "      <td>42.292438</td>\n",
       "      <td>-71.135765</td>\n",
       "      <td>Roslindale</td>\n",
       "      <td>Apartment</td>\n",
       "      <td>Private room</td>\n",
       "      <td>2</td>\n",
       "      <td>...</td>\n",
       "      <td>9.0</td>\n",
       "      <td>10.0</td>\n",
       "      <td>10.0</td>\n",
       "      <td>9.0</td>\n",
       "      <td>10.0</td>\n",
       "      <td>f</td>\n",
       "      <td>moderate</td>\n",
       "      <td>1</td>\n",
       "      <td>0.47</td>\n",
       "      <td>65.0</td>\n",
       "    </tr>\n",
       "    <tr>\n",
       "      <th>3</th>\n",
       "      <td>1436513</td>\n",
       "      <td>https://www.airbnb.com/rooms/1436513</td>\n",
       "      <td>6031442</td>\n",
       "      <td>2013-04-21</td>\n",
       "      <td>42.281106</td>\n",
       "      <td>-71.121021</td>\n",
       "      <td>NaN</td>\n",
       "      <td>House</td>\n",
       "      <td>Private room</td>\n",
       "      <td>4</td>\n",
       "      <td>...</td>\n",
       "      <td>10.0</td>\n",
       "      <td>10.0</td>\n",
       "      <td>10.0</td>\n",
       "      <td>10.0</td>\n",
       "      <td>10.0</td>\n",
       "      <td>f</td>\n",
       "      <td>moderate</td>\n",
       "      <td>1</td>\n",
       "      <td>1.00</td>\n",
       "      <td>75.0</td>\n",
       "    </tr>\n",
       "    <tr>\n",
       "      <th>4</th>\n",
       "      <td>7651065</td>\n",
       "      <td>https://www.airbnb.com/rooms/7651065</td>\n",
       "      <td>15396970</td>\n",
       "      <td>2014-05-11</td>\n",
       "      <td>42.284512</td>\n",
       "      <td>-71.136258</td>\n",
       "      <td>Roslindale</td>\n",
       "      <td>House</td>\n",
       "      <td>Private room</td>\n",
       "      <td>2</td>\n",
       "      <td>...</td>\n",
       "      <td>10.0</td>\n",
       "      <td>10.0</td>\n",
       "      <td>10.0</td>\n",
       "      <td>9.0</td>\n",
       "      <td>10.0</td>\n",
       "      <td>f</td>\n",
       "      <td>flexible</td>\n",
       "      <td>1</td>\n",
       "      <td>2.25</td>\n",
       "      <td>79.0</td>\n",
       "    </tr>\n",
       "  </tbody>\n",
       "</table>\n",
       "<p>5 rows × 29 columns</p>\n",
       "</div>"
      ],
      "text/plain": [
       "         id                            listing_url   host_id  host_since  \\\n",
       "0  12147973  https://www.airbnb.com/rooms/12147973  31303940  2015-04-15   \n",
       "1   3075044   https://www.airbnb.com/rooms/3075044   2572247  2012-06-07   \n",
       "2      6976      https://www.airbnb.com/rooms/6976     16701  2009-05-11   \n",
       "3   1436513   https://www.airbnb.com/rooms/1436513   6031442  2013-04-21   \n",
       "4   7651065   https://www.airbnb.com/rooms/7651065  15396970  2014-05-11   \n",
       "\n",
       "    latitude  longitude neighbourhood property_type        room_type  \\\n",
       "0  42.282619 -71.133068    Roslindale         House  Entire home/apt   \n",
       "1  42.286241 -71.134374    Roslindale     Apartment     Private room   \n",
       "2  42.292438 -71.135765    Roslindale     Apartment     Private room   \n",
       "3  42.281106 -71.121021           NaN         House     Private room   \n",
       "4  42.284512 -71.136258    Roslindale         House     Private room   \n",
       "\n",
       "   accommodates  ...  review_scores_cleanliness  review_scores_checkin  \\\n",
       "0             4  ...                        NaN                    NaN   \n",
       "1             2  ...                        9.0                   10.0   \n",
       "2             2  ...                        9.0                   10.0   \n",
       "3             4  ...                       10.0                   10.0   \n",
       "4             2  ...                       10.0                   10.0   \n",
       "\n",
       "   review_scores_communication review_scores_location  review_scores_value  \\\n",
       "0                          NaN                    NaN                  NaN   \n",
       "1                         10.0                    9.0                  9.0   \n",
       "2                         10.0                    9.0                 10.0   \n",
       "3                         10.0                   10.0                 10.0   \n",
       "4                         10.0                    9.0                 10.0   \n",
       "\n",
       "   instant_bookable  cancellation_policy  calculated_host_listings_count  \\\n",
       "0                 f             moderate                               1   \n",
       "1                 t             moderate                               1   \n",
       "2                 f             moderate                               1   \n",
       "3                 f             moderate                               1   \n",
       "4                 f             flexible                               1   \n",
       "\n",
       "   reviews_per_month  price  \n",
       "0                NaN  250.0  \n",
       "1               1.30   65.0  \n",
       "2               0.47   65.0  \n",
       "3               1.00   75.0  \n",
       "4               2.25   79.0  \n",
       "\n",
       "[5 rows x 29 columns]"
      ]
     },
     "execution_count": 1,
     "metadata": {},
     "output_type": "execute_result"
    }
   ],
   "source": [
    "import pandas as pd\n",
    "\n",
    "\n",
    "# Load the dataset\n",
    "df = pd.read_csv('listings.csv')\n",
    "\n",
    "# Display the first few rows of the dataframe\n",
    "df.head()\n",
    "\n"
   ]
  },
  {
   "cell_type": "markdown",
   "id": "b11580b5-eb30-45f4-8ef8-747f76382651",
   "metadata": {},
   "source": [
    "## Exploring Data Statistics and Visualizations"
   ]
  },
  {
   "cell_type": "code",
   "execution_count": 2,
   "id": "e2ba0364-db4b-4bf0-a838-f20eaabb76f6",
   "metadata": {},
   "outputs": [
    {
     "data": {
      "image/png": "[encoded data removed]",
      "text/plain": [
       "<Figure size 640x480 with 1 Axes>"
      ]
     },
     "metadata": {},
     "output_type": "display_data"
    },
    {
     "data": {
      "image/png": "[encoded data removed]",
      "text/plain": [
       "<Figure size 640x480 with 1 Axes>"
      ]
     },
     "metadata": {},
     "output_type": "display_data"
    }
   ],
   "source": [
    "# Basic statistics\n",
    "df.describe()\n",
    "\n",
    "# Check for missing values\n",
    "df.isnull().sum()\n",
    "\n",
    "# Visualize distributions of key features\n",
    "import matplotlib.pyplot as plt\n",
    "import seaborn as sns\n",
    "\n",
    "sns.histplot(df['price'], bins=50)\n",
    "plt.show()\n",
    "\n",
    "sns.countplot(x='room_type', data=df)\n",
    "plt.show()\n"
   ]
  },
  {
   "cell_type": "markdown",
   "id": "7f70aad5-ac8c-4caa-91a5-f83b1ebd4d51",
   "metadata": {},
   "source": [
    "## Data Preprocessing and Preparation: \n",
    "Cleans data, encodes categorical variables, normalizes numerical features, and splits data for machine learning."
   ]
  },
  {
   "cell_type": "code",
   "execution_count": 3,
   "id": "d1f13d7e-dc42-460d-bc01-016186c1e5b9",
   "metadata": {},
   "outputs": [],
   "source": [
    "from sklearn.preprocessing import LabelEncoder, StandardScaler\n",
    "from sklearn.model_selection import train_test_split\n",
    "\n",
    "# Handle missing values by dropping rows with any missing values\n",
    "df = df.dropna()\n",
    "\n",
    "# Convert string categorical variables to numerical values using Label Encoding\n",
    "label_encoders = {}\n",
    "categorical_features = ['neighbourhood', 'property_type', 'room_type', 'cancellation_policy', 'instant_bookable']\n",
    "\n",
    "for feature in categorical_features:\n",
    "    le = LabelEncoder()\n",
    "    df[feature] = le.fit_transform(df[feature])\n",
    "    label_encoders[feature] = le\n",
    "\n",
    "# Normalize numerical features\n",
    "numerical_features = ['latitude', 'longitude', 'accommodates', 'bathrooms', 'bedrooms', 'beds', \n",
    "                      'minimum_nights', 'number_of_reviews', 'review_scores_rating', \n",
    "                      'review_scores_accuracy', 'review_scores_cleanliness', 'review_scores_checkin', \n",
    "                      'review_scores_communication', 'review_scores_location', 'review_scores_value', \n",
    "                      'calculated_host_listings_count', 'reviews_per_month']\n",
    "\n",
    "scaler = StandardScaler()\n",
    "df[numerical_features] = scaler.fit_transform(df[numerical_features])\n",
    "\n",
    "# Drop the 'amenities' feature since it requires more complex preprocessing\n",
    "df = df.drop(['amenities', 'listing_url', 'host_since'], axis=1)\n",
    "\n",
    "# Split the data into training and testing sets\n",
    "X = df.drop(['price'], axis=1)\n",
    "y = df['price']\n",
    "\n",
    "X_train, X_test, y_train, y_test = train_test_split(X, y, test_size=0.2, random_state=42)\n"
   ]
  },
  {
   "cell_type": "markdown",
   "id": "4d8a72d3-14e3-4694-9974-637151aa57c0",
   "metadata": {},
   "source": [
    "## Random Forest Regression Model Training\n",
    "\n",
    "This code initializes and trains a Random Forest Regressor model, makes predictions (commented out for now), and evaluates Mean Squared Error (MSE) for model performance.\n",
    "\n",
    "**You can use the trained model to make predictions on new data.:**\n",
    "\n",
    "* Assuming new_data is a DataFrame with the same structure as X\n",
    "* new_data = pd.read_csv('new_data.csv')\n",
    "* new_data = preprocess_new_data(new_data)  # Ensure the same preprocessing steps are applied\n",
    "\n",
    "* predictions = model.predict(new_data)\n",
    "* print(predictions)"
   ]
  },
  {
   "cell_type": "code",
   "execution_count": 5,
   "id": "ee737790-dc01-493b-ad79-d4e7fd5b5c64",
   "metadata": {},
   "outputs": [
    {
     "name": "stdout",
     "output_type": "stream",
     "text": [
      "Mean Squared Error: 10149.69271818182\n"
     ]
    }
   ],
   "source": [
    "from sklearn.ensemble import RandomForestRegressor\n",
    "from sklearn.metrics import mean_squared_error\n",
    "\n",
    "# Initialize the model\n",
    "model = RandomForestRegressor(n_estimators=100, random_state=42)\n",
    "\n",
    "# Train the model\n",
    "model.fit(X_train, y_train)\n",
    "\n",
    "# Make predictions\n",
    "y_pred = model.predict(X_test)\n",
    "\n",
    "# Evaluate the model\n",
    "mse = mean_squared_error(y_test, y_pred)\n",
    "print(f'Mean Squared Error: {mse}')\n",
    "\n"
   ]
  },
  {
   "cell_type": "markdown",
   "id": "392f8a21-2c73-4295-b7e2-ca4d72e719d5",
   "metadata": {},
   "source": [
    "A Mean Squared Error (MSE) of 10149.69 indicates the average squared difference between the actual and predicted prices. Whether this is \"good\" or not depends on the context, such as the range of prices and the acceptable error level for the application. "
   ]
  },
  {
   "cell_type": "markdown",
   "id": "0742da2b-57ab-4d92-aa81-396bb261fc39",
   "metadata": {},
   "source": [
    "### following steps:"
   ]
  },
  {
   "cell_type": "markdown",
   "id": "692bfad7-de45-48de-a5bc-71fe070f7474",
   "metadata": {},
   "source": [
    "#### Understand the Range of Prices\n",
    "\n",
    "\n",
    "To provide context for understanding the MSE, it's important to know the range of price values in your dataset."
   ]
  },
  {
   "cell_type": "code",
   "execution_count": 6,
   "id": "483dcd87-d9a0-4fad-90b2-80179e5e396e",
   "metadata": {},
   "outputs": [
    {
     "name": "stdout",
     "output_type": "stream",
     "text": [
      "Minimum price: 55.0\n",
      "Maximum price: 725.0\n"
     ]
    }
   ],
   "source": [
    "print(f'Minimum price: {df[\"price\"].min()}')\n",
    "print(f'Maximum price: {df[\"price\"].max()}')"
   ]
  },
  {
   "cell_type": "markdown",
   "id": "01544c00-beed-45df-a26d-1da49d7d920e",
   "metadata": {},
   "source": [
    "Given that the minimum price is 55 and the maximum price is 725, an MSE of 10149.69 seems relatively high. To put this into perspective, the MSE indicates that, on average, the square of the errors (differences between actual and predicted prices) is 10149.69, which is quite large considering the price range."
   ]
  },
  {
   "cell_type": "markdown",
   "id": "f4d220b3-b9fd-4a2f-966f-1963515eb161",
   "metadata": {},
   "source": [
    "## Next Steps to Improve the Model"
   ]
  },
  {
   "cell_type": "markdown",
   "id": "e294a279-3344-4d9f-afd3-cad6a7ad809e",
   "metadata": {},
   "source": [
    "### Compare with Baseline Models:\n",
    "Check the performance of simpler models to see if the Random Forest is doing better."
   ]
  },
  {
   "cell_type": "code",
   "execution_count": 8,
   "id": "c24c8c10-a613-4cec-a61c-7976ce19506b",
   "metadata": {},
   "outputs": [
    {
     "name": "stdout",
     "output_type": "stream",
     "text": [
      "Baseline Mean Squared Error: 14371.757443181821\n",
      "Linear Regression Mean Squared Error: 343516.53761942324\n"
     ]
    }
   ],
   "source": [
    "from sklearn.dummy import DummyRegressor\n",
    "from sklearn.linear_model import LinearRegression\n",
    "\n",
    "# Baseline model (mean predictor)\n",
    "dummy = DummyRegressor(strategy=\"mean\")\n",
    "dummy.fit(X_train, y_train)\n",
    "dummy_pred = dummy.predict(X_test)\n",
    "baseline_mse = mean_squared_error(y_test, dummy_pred)\n",
    "print(f'Baseline Mean Squared Error: {baseline_mse}')\n",
    "\n",
    "# Linear regression model\n",
    "linear_model = LinearRegression()\n",
    "linear_model.fit(X_train, y_train)\n",
    "linear_pred = linear_model.predict(X_test)\n",
    "linear_mse = mean_squared_error(y_test, linear_pred)\n",
    "print(f'Linear Regression Mean Squared Error: {linear_mse}')\n"
   ]
  },
  {
   "cell_type": "markdown",
   "id": "825859ea-c60b-46ee-9ac7-a30c02706aad",
   "metadata": {},
   "source": [
    "The Dummy Regressor has a lower MSE compared to the linear regression model, suggesting that, in this case, predicting the mean price performs better than using linear regression. This indicates that the linear regression model might be underfitting or not capturing the complexities of the relationship between the features and the price."
   ]
  },
  {
   "cell_type": "markdown",
   "id": "12dbabae-327f-4a55-833e-868facaf1b6c",
   "metadata": {},
   "source": [
    "### Evaluate Model Performance with Additional Metrics"
   ]
  },
  {
   "cell_type": "code",
   "execution_count": 9,
   "id": "e42c2493-63a4-4663-9d1c-f5add310bb58",
   "metadata": {},
   "outputs": [
    {
     "name": "stdout",
     "output_type": "stream",
     "text": [
      "Mean Absolute Error: 74.20636363636362\n",
      "R-squared: 0.28898619272030424\n"
     ]
    }
   ],
   "source": [
    "from sklearn.metrics import mean_absolute_error, r2_score\n",
    "\n",
    "mae = mean_absolute_error(y_test, y_pred)\n",
    "r2 = r2_score(y_test, y_pred)\n",
    "\n",
    "print(f'Mean Absolute Error: {mae}')\n",
    "print(f'R-squared: {r2}')\n"
   ]
  },
  {
   "cell_type": "markdown",
   "id": "0756db78-7248-442a-88dd-7aab992b29d8",
   "metadata": {},
   "source": [
    "The code identified some ability to predict price (R²=0.2889), but the average difference between predictions and actual prices remains high ($74.21 MAE). To improve this, we can explore creating new informative features (feature engineering) and experiment with different model types and settings (model tuning) in future iterations."
   ]
  },
  {
   "cell_type": "markdown",
   "id": "1b26721a-1630-4547-aaa4-e6f9b08f83ad",
   "metadata": {},
   "source": [
    "### Feature Importance\n",
    "Examine feature importance to understand which features contribute most to the predictions."
   ]
  },
  {
   "cell_type": "code",
   "execution_count": 13,
   "id": "bc64efe6-2df8-49b4-a400-3ded3eaf6b4d",
   "metadata": {},
   "outputs": [
    {
     "name": "stdout",
     "output_type": "stream",
     "text": [
      "                           feature  importance\n",
      "7                     accommodates    0.360511\n",
      "6                        room_type    0.099388\n",
      "2                         latitude    0.087838\n",
      "14            review_scores_rating    0.082450\n",
      "24               reviews_per_month    0.077729\n",
      "11                     square_feet    0.043202\n",
      "9                         bedrooms    0.036745\n",
      "10                            beds    0.036658\n",
      "13               number_of_reviews    0.036574\n",
      "1                          host_id    0.019114\n",
      "0                               id    0.015284\n",
      "12                  minimum_nights    0.015039\n",
      "3                        longitude    0.014006\n",
      "22             cancellation_policy    0.013822\n",
      "18     review_scores_communication    0.012400\n",
      "15          review_scores_accuracy    0.011054\n",
      "23  calculated_host_listings_count    0.010569\n",
      "19          review_scores_location    0.007991\n",
      "4                    neighbourhood    0.004582\n",
      "8                        bathrooms    0.003480\n",
      "5                    property_type    0.003157\n",
      "16       review_scores_cleanliness    0.003131\n",
      "17           review_scores_checkin    0.002807\n",
      "20             review_scores_value    0.002197\n",
      "21                instant_bookable    0.000271\n"
     ]
    }
   ],
   "source": [
    "importances = model.feature_importances_\n",
    "feature_names = X_train.columns\n",
    "\n",
    "feature_importance_df = pd.DataFrame({\n",
    "    'feature': feature_names,\n",
    "    'importance': importances\n",
    "}).sort_values(by='importance', ascending=False)\n",
    "\n",
    "print(feature_importance_df)\n"
   ]
  },
  {
   "cell_type": "markdown",
   "id": "e5c91def-8c50-4e92-a59e-b920724f5dd3",
   "metadata": {},
   "source": [
    "The results show feature importance values ranking from 0.361 for \"accommodates\" to 0.000271 for \"instant_bookable.\""
   ]
  },
  {
   "cell_type": "markdown",
   "id": "e0011215-dc95-4125-b562-424e73010003",
   "metadata": {},
   "source": [
    "### Random Forest Regression with Feature Selection and Tuning"
   ]
  },
  {
   "cell_type": "markdown",
   "id": "ce8b5751-35a1-4ae2-9606-33b2f43462a2",
   "metadata": {},
   "source": [
    "Optimizing Random Forest Regression with top feature selection and tuned parameters for enhanced prediction accuracy."
   ]
  },
  {
   "cell_type": "code",
   "execution_count": 14,
   "id": "673f9795-4498-4b64-a393-c0b81b0eca64",
   "metadata": {},
   "outputs": [
    {
     "name": "stdout",
     "output_type": "stream",
     "text": [
      "Mean Squared Error (Selected Features): 9031.688508723912\n"
     ]
    }
   ],
   "source": [
    "# Step 1: Select top features based on importance\n",
    "top_features = feature_importance_df.head(8)['feature'].tolist()\n",
    "\n",
    "# Step 2: Subset the training and test sets to include only the top features\n",
    "X_train_selected = X_train[top_features]\n",
    "X_test_selected = X_test[top_features]\n",
    "\n",
    "# Step 3: Initialize the model with updated parameters or perform hyperparameter tuning\n",
    "model_selected = RandomForestRegressor(n_estimators=200, max_depth=10, random_state=42)\n",
    "\n",
    "# Step 4: Retrain the model on selected features\n",
    "model_selected.fit(X_train_selected, y_train)\n",
    "\n",
    "# Step 5: Make predictions using the updated model\n",
    "y_pred_selected = model_selected.predict(X_test_selected)\n",
    "\n",
    "# Step 6: Evaluate the model performance\n",
    "mse_selected = mean_squared_error(y_test, y_pred_selected)\n",
    "print(f'Mean Squared Error (Selected Features): {mse_selected}')\n",
    "\n"
   ]
  },
  {
   "cell_type": "markdown",
   "id": "09e887f3-61cd-426f-aa2e-6eb849304f55",
   "metadata": {},
   "source": [
    "Reducing the Mean Squared Error (MSE) by selecting top features suggests significant enhancement in the model's predictive accuracy."
   ]
  },
  {
   "cell_type": "markdown",
   "id": "d078401e-a89b-40d7-ad5b-f47b306445e2",
   "metadata": {},
   "source": [
    "### Model Evaluation and Hyperparameter Tuning for Random Forest Regression\n",
    "The code sets up and evaluates a Random Forest regression model using sklearn. It compares its performance with baseline models, identifies key features, and optimizes model parameters to improve prediction accuracy."
   ]
  },
  {
   "cell_type": "code",
   "execution_count": 16,
   "id": "6a175c73-e279-4dad-87d9-5eda5c6df269",
   "metadata": {},
   "outputs": [
    {
     "name": "stdout",
     "output_type": "stream",
     "text": [
      "Baseline Mean Squared Error: 14371.757443181821\n",
      "Linear Regression Mean Squared Error: 343516.53761942324\n",
      "Random Forest Mean Squared Error: 10149.69271818182\n",
      "Random Forest Mean Absolute Error: 74.20636363636362\n",
      "Random Forest R-squared: 0.28898619272030424\n",
      "Fitting 3 folds for each of 108 candidates, totalling 324 fits\n",
      "\n",
      "Best Mean Squared Error after Hyperparameter Tuning: 10149.69271818182\n"
     ]
    }
   ],
   "source": [
    "from sklearn.model_selection import GridSearchCV\n",
    "from sklearn.ensemble import RandomForestRegressor\n",
    "from sklearn.metrics import mean_squared_error, mean_absolute_error, r2_score\n",
    "import pandas as pd\n",
    "\n",
    "# Assuming X_train, X_test, y_train, y_test are already defined and prepared\n",
    "\n",
    "# Initialize the model\n",
    "model = RandomForestRegressor(random_state=42)\n",
    "\n",
    "# Fit the initial model\n",
    "model.fit(X_train, y_train)\n",
    "\n",
    "# Baseline model (mean predictor)\n",
    "dummy = DummyRegressor(strategy=\"mean\")\n",
    "dummy.fit(X_train, y_train)\n",
    "dummy_pred = dummy.predict(X_test)\n",
    "baseline_mse = mean_squared_error(y_test, dummy_pred)\n",
    "print(f'Baseline Mean Squared Error: {baseline_mse}')\n",
    "\n",
    "# Linear regression model\n",
    "linear_model = LinearRegression()\n",
    "linear_model.fit(X_train, y_train)\n",
    "linear_pred = linear_model.predict(X_test)\n",
    "linear_mse = mean_squared_error(y_test, linear_pred)\n",
    "print(f'Linear Regression Mean Squared Error: {linear_mse}')\n",
    "\n",
    "# Random Forest model evaluation\n",
    "y_pred = model.predict(X_test)\n",
    "rf_mse = mean_squared_error(y_test, y_pred)\n",
    "rf_mae = mean_absolute_error(y_test, y_pred)\n",
    "rf_r2 = r2_score(y_test, y_pred)\n",
    "\n",
    "print(f'Random Forest Mean Squared Error: {rf_mse}')\n",
    "print(f'Random Forest Mean Absolute Error: {rf_mae}')\n",
    "print(f'Random Forest R-squared: {rf_r2}')\n",
    "\n",
    "# Hyperparameter tuning\n",
    "param_grid = {\n",
    "    'n_estimators': [100, 200, 300],\n",
    "    'max_depth': [None, 10, 20, 30],\n",
    "    'min_samples_split': [2, 5, 10],\n",
    "    'min_samples_leaf': [1, 2, 4]\n",
    "}\n",
    "\n",
    "grid_search = GridSearchCV(estimator=model, param_grid=param_grid, cv=3, n_jobs=-1, verbose=2)\n",
    "grid_search.fit(X_train, y_train)\n",
    "\n",
    "best_model = grid_search.best_estimator_\n",
    "y_pred_best = best_model.predict(X_test)\n",
    "best_mse = mean_squared_error(y_test, y_pred_best)\n",
    "\n",
    "print(f'\\nBest Mean Squared Error after Hyperparameter Tuning: {best_mse}')\n"
   ]
  },
  {
   "cell_type": "markdown",
   "id": "36deed94-b33d-40ce-9103-17a373f5e55f",
   "metadata": {},
   "source": [
    "The Random Forest model shows superior performance with a Mean Squared Error of 10149.69, outperforming both the baseline (14371.76) and linear regression (343516.54) models. Even after hyperparameter tuning, the model's effectiveness remains consistent, maintaining a Mean Absolute Error of 74.21 and an R-squared of 0.289, indicating it explains approximately 29% of the variance in the data."
   ]
  },
  {
   "cell_type": "code",
   "execution_count": null,
   "id": "0ca2f5dc-26d2-4101-a901-bd8a7587b80b",
   "metadata": {},
   "outputs": [],
   "source": []
  }
 ],
 "metadata": {
  "kernelspec": {
   "display_name": "Python 3 (ipykernel)",
   "language": "python",
   "name": "python3"
  },
  "language_info": {
   "codemirror_mode": {
    "name": "ipython",
    "version": 3
   },
   "file_extension": ".py",
   "mimetype": "text/x-python",
   "name": "python",
   "nbconvert_exporter": "python",
   "pygments_lexer": "ipython3",
   "version": "3.11.4"
  }
 },
 "nbformat": 4,
 "nbformat_minor": 5
}
